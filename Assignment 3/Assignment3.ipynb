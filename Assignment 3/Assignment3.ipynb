{
 "cells": [
  {
   "cell_type": "code",
   "execution_count": 13,
   "id": "91cc116d-f069-4339-acab-958f4f5bb2e2",
   "metadata": {},
   "outputs": [],
   "source": [
    "#Alan Uthuppan\n",
    "\n",
    "import math\n",
    "from math import comb"
   ]
  },
  {
   "cell_type": "code",
   "execution_count": 14,
   "id": "6c33c15c-7f3c-40d7-a187-4c6ea56410da",
   "metadata": {},
   "outputs": [
    {
     "name": "stdout",
     "output_type": "stream",
     "text": [
      "Problem 1\n",
      "\n",
      "Graph would have an average degree = 3.999\n",
      "\n",
      "Graph would have a variance = 3.9950010000000002\n",
      "\n",
      "# of nodes with degree greater than or equal to average times 2 = 203.93917397722828\n",
      "\n"
     ]
    }
   ],
   "source": [
    "print(\"Problem 1\\n\")\n",
    "\n",
    "n = 4000\n",
    "p = 0.001\n",
    "\n",
    "avg = p*(n-1)\n",
    "print(\"Graph would have an average degree = \" + str(avg) + \"\\n\")\n",
    "\n",
    "print(\"Graph would have a variance = \" + str(avg*(1-p)) + \"\\n\")\n",
    "\n",
    "atLeastTwiceLarger = []\n",
    "for i in range(math.ceil(2*avg), 100):\n",
    "    atLeastTwiceLarger.append(comb(n-1, i)*(p**i)*(1-p)**(n-1-i))\n",
    "print(\"# of nodes with degree greater than or equal to average times 2 = \" + str(sum(atLeastTwiceLarger)*n) + \"\\n\")"
   ]
  },
  {
   "cell_type": "code",
   "execution_count": 15,
   "id": "b11e97ad-fb72-48b2-a747-f464bcac3fdb",
   "metadata": {},
   "outputs": [
    {
     "name": "stdout",
     "output_type": "stream",
     "text": [
      "Problem 2\n",
      "\n",
      "Part a:\n",
      "Probability of creating an edge = (# of edges)/(Maximum # of edges). Therefore, p = (c*n/2)/(n(n-1)/2) = c/(n-1)\n",
      "\n",
      "Partb:\n",
      "We need three nodes all sharing edges for a triangle. There are n choose 3 possible triangles which equals n!/(3!(n-3)!). Every edge has a c/(n-1) probability of exisiting (as shown in part a). Therefore, in order for a particular triangle to exist there is a (c/(n-1))^3 chance.\n",
      "Therefore, total number of triangles equals the probability of a triangle existing times the # of potential triangles, which equals n!/(3!(n-3)!)*(c/(n-1))^3, which simplifies to (c^3)/6 as n approaches infinity.\n"
     ]
    }
   ],
   "source": [
    "print(\"Problem 2\\n\")\n",
    "\n",
    "print(\"Part a:\\nProbability of creating an edge = (# of edges)/(Maximum # of edges). Therefore, p = (c*n/2)/(n(n-1)/2) = c/(n-1)\\n\")\n",
    "\n",
    "print(\"Partb:\\nWe need three nodes all sharing edges for a triangle. There are n choose 3 possible triangles which equals n!/(3!(n-3)!). Every edge has a c/(n-1) probability of exisiting (as shown in part a). Therefore, in order for a particular triangle to exist there is a (c/(n-1))^3 chance.\\nTherefore, total number of triangles equals the probability of a triangle existing times the # of potential triangles, which equals n!/(3!(n-3)!)*(c/(n-1))^3, which simplifies to (c^3)/6 as n approaches infinity.\")\n"
   ]
  }
 ],
 "metadata": {
  "kernelspec": {
   "display_name": "Python 3 (ipykernel)",
   "language": "python",
   "name": "python3"
  },
  "language_info": {
   "codemirror_mode": {
    "name": "ipython",
    "version": 3
   },
   "file_extension": ".py",
   "mimetype": "text/x-python",
   "name": "python",
   "nbconvert_exporter": "python",
   "pygments_lexer": "ipython3",
   "version": "3.8.16"
  }
 },
 "nbformat": 4,
 "nbformat_minor": 5
}
